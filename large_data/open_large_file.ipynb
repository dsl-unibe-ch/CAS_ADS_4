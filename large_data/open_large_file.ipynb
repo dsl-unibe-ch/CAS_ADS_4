{
 "cells": [
  {
   "cell_type": "code",
   "execution_count": null,
   "id": "e296a716",
   "metadata": {},
   "outputs": [],
   "source": [
    "import sys, time\n",
    "\n",
    "start_time = time.time()  \n",
    "\n",
    "with open(\"large_text.txt\", \"r\", encoding=\"utf-8\") as f, \\\n",
    "    open(\"output_processed.txt\", \"w\", encoding=\"utf-8\") as out:\n",
    "    print(f\"Size of file loaded using 'with' keyword is: {sys.getsizeof(f)}\")\n",
    "    for line in f:\n",
    "        line = line.lower() #any processing you need to do\n",
    "        line = line.split()\n",
    "        out.write(\" \".join(line) + \"\\n\")\n",
    "        \n",
    "end_time = time.time()  \n",
    "elapsed_time = end_time - start_time  \n",
    "\n",
    "print(f\"Time taken to execute the code: {elapsed_time:.2f} seconds\")"
   ]
  },
  {
   "cell_type": "code",
   "execution_count": null,
   "id": "dca84ff2",
   "metadata": {},
   "outputs": [],
   "source": [
    "import os\n",
    "import time\n",
    "import multiprocessing\n",
    "\n",
    "def process_chunk(start, end, input_file):\n",
    "    with open(input_file, \"r\", encoding=\"utf-8\") as f:\n",
    "        f.seek(start)\n",
    "        lines = f.read(end - start).splitlines()\n",
    "        for line in lines:\n",
    "            line = line.lower()\n",
    "            line = line.split()\n",
    "\n",
    "def get_chunk_positions(file_name, num_chunks):\n",
    "    file_size = os.path.getsize(file_name)\n",
    "    chunk_size = file_size // num_chunks\n",
    "    \n",
    "    with open(file_name, \"rb\") as f:\n",
    "        chunk_positions = [0]\n",
    "        for _ in range(num_chunks - 1):\n",
    "            f.seek(chunk_size, 1)  # Seek to the end of the chunk\n",
    "            f.readline()  # Read to the end of the line\n",
    "            chunk_positions.append(f.tell())\n",
    "        chunk_positions.append(file_size)\n",
    "    return chunk_positions\n",
    "\n",
    "def main():\n",
    "    start_time = time.time()\n",
    "    input_file = \"large_text.txt\"\n",
    "    num_processes = 4  # Number of processes\n",
    "    \n",
    "    # Get chunk positions\n",
    "    chunk_positions = get_chunk_positions(input_file, num_processes)\n",
    "    \n",
    "    # Create and start processes\n",
    "    processes = []\n",
    "    for i in range(num_processes):\n",
    "        p = multiprocessing.Process(target=process_chunk, args=(chunk_positions[i], chunk_positions[i+1], input_file))\n",
    "        p.start()\n",
    "        processes.append(p)\n",
    "    \n",
    "    # Wait for all processes to finish\n",
    "    for p in processes:\n",
    "        p.join()\n",
    "    \n",
    "    end_time = time.time()\n",
    "    elapsed_time = end_time - start_time\n",
    "    print(f\"Time taken to execute the code: {elapsed_time:.2f} seconds\")\n",
    "\n",
    "if __name__ == \"__main__\":\n",
    "    main()\n"
   ]
  },
  {
   "cell_type": "code",
   "execution_count": null,
   "id": "14f39771",
   "metadata": {},
   "outputs": [],
   "source": []
  }
 ],
 "metadata": {
  "kernelspec": {
   "display_name": "Python 3 (ipykernel)",
   "language": "python",
   "name": "python3"
  },
  "language_info": {
   "codemirror_mode": {
    "name": "ipython",
    "version": 3
   },
   "file_extension": ".py",
   "mimetype": "text/x-python",
   "name": "python",
   "nbconvert_exporter": "python",
   "pygments_lexer": "ipython3",
   "version": "3.12.3"
  }
 },
 "nbformat": 4,
 "nbformat_minor": 5
}
